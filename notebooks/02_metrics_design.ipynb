{
 "cells": [
  {
   "cell_type": "code",
   "execution_count": 1,
   "id": "b124a53e",
   "metadata": {},
   "outputs": [
    {
     "name": "stdout",
     "output_type": "stream",
     "text": [
      "Fraud rate: 0.0896\n"
     ]
    }
   ],
   "source": [
    "import pandas as pd\n",
    "from sklearn.metrics import (\n",
    "    precision_score, recall_score, f1_score,\n",
    "    roc_auc_score, average_precision_score\n",
    ")\n",
    "\n",
    "# Load the small dev sample\n",
    "df = pd.read_csv(\"../data/processed/dev_sample.csv\")\n",
    "\n",
    "# Sanity: separate features & target\n",
    "X = df.drop(columns=[\"Class\"])\n",
    "y = df[\"Class\"]\n",
    "\n",
    "# Baseline: Random (no model)\n",
    "positive_rate = y.mean()\n",
    "print(f\"Fraud rate: {positive_rate:.4f}\")"
   ]
  },
  {
   "cell_type": "code",
   "execution_count": 2,
   "id": "00f2b5c1",
   "metadata": {},
   "outputs": [],
   "source": [
    "# Define helper metric printer\n",
    "def evaluate_model(y_true, y_pred_proba, threshold=0.5):\n",
    "    y_pred = (y_pred_proba >= threshold).astype(int)\n",
    "    metrics = {\n",
    "        \"Precision\": precision_score(y_true, y_pred),\n",
    "        \"Recall\": recall_score(y_true, y_pred),\n",
    "        \"F1\": f1_score(y_true, y_pred),\n",
    "        \"ROC_AUC\": roc_auc_score(y_true, y_pred_proba),\n",
    "        \"PR_AUC\": average_precision_score(y_true, y_pred_proba)\n",
    "    }\n",
    "    for k,v in metrics.items():\n",
    "        print(f\"{k:10s}: {v:0.4f}\")\n",
    "    return metrics"
   ]
  },
  {
   "cell_type": "code",
   "execution_count": null,
   "id": "11b3de5e",
   "metadata": {},
   "outputs": [
    {
     "name": "stdout",
     "output_type": "stream",
     "text": [
      "Precision : 0.0874\n",
      "Recall    : 0.4858\n",
      "F1        : 0.1481\n",
      "ROC_AUC   : 0.4845\n",
      "PR_AUC    : 0.0875\n"
     ]
    },
    {
     "data": {
      "text/plain": [
       "{'Precision': 0.08735380116959064,\n",
       " 'Recall': 0.48577235772357724,\n",
       " 'F1': 0.14807930607187111,\n",
       " 'ROC_AUC': 0.4844719512195122,\n",
       " 'PR_AUC': 0.08746249935495926}"
      ]
     },
     "execution_count": 3,
     "metadata": {},
     "output_type": "execute_result"
    }
   ],
   "source": [
    "import numpy as np\n",
    "\n",
    "# Pretend model outputs random probabilities\n",
    "rng = np.random.RandomState(42)\n",
    "y_pred_proba = rng.rand(len(y))\n",
    "\n",
    "# Evaluate \"random model\"\n",
    "evaluate_model(y, y_pred_proba)\n"
   ]
  },
  {
   "cell_type": "code",
   "execution_count": null,
   "id": "cc6daf9a",
   "metadata": {},
   "outputs": [],
   "source": []
  }
 ],
 "metadata": {
  "kernelspec": {
   "display_name": "rag_env",
   "language": "python",
   "name": "python3"
  },
  "language_info": {
   "codemirror_mode": {
    "name": "ipython",
    "version": 3
   },
   "file_extension": ".py",
   "mimetype": "text/x-python",
   "name": "python",
   "nbconvert_exporter": "python",
   "pygments_lexer": "ipython3",
   "version": "3.10.18"
  }
 },
 "nbformat": 4,
 "nbformat_minor": 5
}
