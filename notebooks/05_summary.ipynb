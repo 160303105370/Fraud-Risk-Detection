{
 "cells": [
  {
   "cell_type": "code",
   "execution_count": 1,
   "id": "a3f00367",
   "metadata": {},
   "outputs": [
    {
     "data": {
      "text/html": [
       "<div>\n",
       "<style scoped>\n",
       "    .dataframe tbody tr th:only-of-type {\n",
       "        vertical-align: middle;\n",
       "    }\n",
       "\n",
       "    .dataframe tbody tr th {\n",
       "        vertical-align: top;\n",
       "    }\n",
       "\n",
       "    .dataframe thead th {\n",
       "        text-align: right;\n",
       "    }\n",
       "</style>\n",
       "<table border=\"1\" class=\"dataframe\">\n",
       "  <thead>\n",
       "    <tr style=\"text-align: right;\">\n",
       "      <th></th>\n",
       "      <th>Model</th>\n",
       "      <th>TP</th>\n",
       "      <th>FP</th>\n",
       "      <th>FN</th>\n",
       "      <th>TN</th>\n",
       "      <th>Precision</th>\n",
       "      <th>Recall</th>\n",
       "      <th>FPR_Reduction_%</th>\n",
       "    </tr>\n",
       "  </thead>\n",
       "  <tbody>\n",
       "    <tr>\n",
       "      <th>0</th>\n",
       "      <td>Baseline</td>\n",
       "      <td>105</td>\n",
       "      <td>6</td>\n",
       "      <td>18</td>\n",
       "      <td>1244</td>\n",
       "      <td>0.945946</td>\n",
       "      <td>0.853659</td>\n",
       "      <td>0.0</td>\n",
       "    </tr>\n",
       "    <tr>\n",
       "      <th>1</th>\n",
       "      <td>Hybrid</td>\n",
       "      <td>105</td>\n",
       "      <td>5</td>\n",
       "      <td>18</td>\n",
       "      <td>1245</td>\n",
       "      <td>0.954545</td>\n",
       "      <td>0.853659</td>\n",
       "      <td>16.7</td>\n",
       "    </tr>\n",
       "  </tbody>\n",
       "</table>\n",
       "</div>"
      ],
      "text/plain": [
       "      Model   TP  FP  FN    TN  Precision    Recall  FPR_Reduction_%\n",
       "0  Baseline  105   6  18  1244   0.945946  0.853659              0.0\n",
       "1    Hybrid  105   5  18  1245   0.954545  0.853659             16.7"
      ]
     },
     "execution_count": 1,
     "metadata": {},
     "output_type": "execute_result"
    }
   ],
   "source": [
    "import pandas as pd\n",
    "import matplotlib.pyplot as plt\n",
    "import seaborn as sns\n",
    "from sklearn.metrics import precision_recall_curve, roc_curve, auc\n",
    "\n",
    "# Combine metrics\n",
    "results = pd.DataFrame({\n",
    "    \"Model\": [\"Baseline\", \"Hybrid\"],\n",
    "    \"TP\": [105, 105],\n",
    "    \"FP\": [6, 5],\n",
    "    \"FN\": [18, 18],\n",
    "    \"TN\": [1244, 1245],\n",
    "})\n",
    "results[\"Precision\"] = results[\"TP\"] / (results[\"TP\"] + results[\"FP\"])\n",
    "results[\"Recall\"] = results[\"TP\"] / (results[\"TP\"] + results[\"FN\"])\n",
    "results[\"FPR_Reduction_%\"] = [0, 16.7]\n",
    "results\n"
   ]
  },
  {
   "cell_type": "code",
   "execution_count": 3,
   "id": "0f6ccb16",
   "metadata": {},
   "outputs": [
    {
     "data": {
      "image/png": "[encoded data removed]",
      "text/plain": [
       "<Figure size 640x480 with 1 Axes>"
      ]
     },
     "metadata": {},
     "output_type": "display_data"
    }
   ],
   "source": [
    "sns.barplot(data=results, x=\"Model\", y=\"Precision\", hue=\"Model\", dodge=False)\n",
    "plt.title(\"Precision Comparison: Baseline vs Hybrid\")\n",
    "plt.show()\n"
   ]
  },
  {
   "cell_type": "markdown",
   "id": "cd25bf1f",
   "metadata": {},
   "source": [
    "### Final Results Summary\n",
    "\n",
    "| Metric | Baseline GBM | Hybrid AE + XGBoost | Change |\n",
    "|---------|---------------|----------------------|--------|\n",
    "| True Positives | 105 | 105 | — |\n",
    "| False Positives | 6 | 5 | ↓ 16.7 % |\n",
    "| Recall | 0.85 | 0.85 | — |\n",
    "| Precision | 0.95 | 0.96 | ↑ |\n",
    "| PR-AUC | 0.94 | 0.96 | ↑ |\n",
    "\n",
    "**Interpretation:**  \n",
    "The hybrid model maintained recall while reducing false positives by ~17 %, improving precision and stability.  \n",
    "This demonstrates the business impact: fewer customer disruptions while retaining fraud coverage.\n"
   ]
  }
 ],
 "metadata": {
  "kernelspec": {
   "display_name": "rag_env",
   "language": "python",
   "name": "python3"
  },
  "language_info": {
   "codemirror_mode": {
    "name": "ipython",
    "version": 3
   },
   "file_extension": ".py",
   "mimetype": "text/x-python",
   "name": "python",
   "nbconvert_exporter": "python",
   "pygments_lexer": "ipython3",
   "version": "3.10.18"
  }
 },
 "nbformat": 4,
 "nbformat_minor": 5
}
